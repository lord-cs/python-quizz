{
 "cells": [
  {
   "cell_type": "code",
   "execution_count": 9,
   "id": "5ab20d62",
   "metadata": {},
   "outputs": [
    {
     "name": "stdout",
     "output_type": "stream",
     "text": [
      "total: 15\n",
      "product: 120\n",
      "average: 3.0\n"
     ]
    }
   ],
   "source": [
    "def perform_operations(numbers):\n",
    "    total = 0\n",
    "    product = 1\n",
    "    for num in numbers:\n",
    "        product *= num\n",
    "        total += num\n",
    "    average = total / len(numbers)\n",
    "    print(f\"total: {total}\")\n",
    "    print(f\"product: {product}\")\n",
    "    print(f\"average: {average}\")\n",
    "\n",
    "l=[1,2,3,4,5]\n",
    "perform_operations(l)"
   ]
  },
  {
   "cell_type": "code",
   "execution_count": 1,
   "id": "a1b814ff",
   "metadata": {},
   "outputs": [
    {
     "name": "stdout",
     "output_type": "stream",
     "text": [
      "vehicle make: honda\n",
      "vehicle model: hybrid\n",
      "vehicle year: 2003\n",
      "vehicle make: sonata\n",
      "vehicle model: 1.8\n",
      "vehicle year: 2024\n",
      "no of doors in car: 4\n",
      "car is starting.\n",
      "\n",
      "vehicle make: hyundai\n",
      "vehicle model: rosp\n",
      "vehicle year: 2003\n",
      "cargo capacity in truck: 300000\n",
      "truck is starting.\n",
      "\n",
      "vehicle make: yamaha\n",
      "vehicle model: r1\n",
      "vehicle year: 2003\n",
      "typedrive of motorcycle: hard\n",
      "motorcycle is starting.\n",
      "\n"
     ]
    }
   ],
   "source": [
    "class vehicle():\n",
    "    def __init__(self,make,model,year):\n",
    "        self.make=make\n",
    "        self.model=model\n",
    "        self.year=year\n",
    "    def display(self):\n",
    "        print(f\"vehicle make: {self.make}\")\n",
    "        print(f\"vehicle model: {self.model}\")\n",
    "        print(f\"vehicle year: {self.year}\")\n",
    "\n",
    "class car(vehicle):\n",
    "    def __init__(self, make, model, year,doors):\n",
    "        super().__init__(make, model, year)\n",
    "        self.doors=doors\n",
    "    def display(self):\n",
    "        vehicle.display(self)\n",
    "        print(f\"no of doors in car: {self.doors}\")\n",
    "    def start(self):\n",
    "        print(\"car is starting.\\n\")\n",
    "\n",
    "class truck(vehicle):\n",
    "    def __init__(self, make, model, year,cargocapacity):\n",
    "        super().__init__(make, model, year)\n",
    "        self.cargocapacity=cargocapacity\n",
    "    def display(self):\n",
    "        vehicle.display(self)\n",
    "        print(f\"cargo capacity in truck: {self.cargocapacity}\")\n",
    "    def start(self):\n",
    "        print(\"truck is starting.\\n\")\n",
    "\n",
    "class motorcycle(vehicle):\n",
    "    def __init__(self, make, model, year,typedrive):\n",
    "        super().__init__(make, model, year)\n",
    "        self.typedrive=typedrive\n",
    "    def display(self):\n",
    "        vehicle.display(self)\n",
    "        print(f\"typedrive of motorcycle: {self.typedrive}\")\n",
    "    def start(self):\n",
    "        print(\"motorcycle is starting.\\n\")\n",
    "\n",
    "v1=vehicle(\"honda\",\"hybrid\",2003)\n",
    "v1.display()\n",
    "mycar=car(\"sonata\",\"1.8\",2024,4)\n",
    "mycar.display()\n",
    "mycar.start()\n",
    "t1=truck(\"hyundai\",\"rosp\",2003,300000)\n",
    "t1.display()\n",
    "t1.start()\n",
    "m1=motorcycle(\"yamaha\",\"r1\",2003,\"hard\")\n",
    "m1.display()\n",
    "m1.start()\n",
    "\n"
   ]
  },
  {
   "cell_type": "code",
   "execution_count": 2,
   "id": "6137b50a",
   "metadata": {},
   "outputs": [
    {
     "name": "stdout",
     "output_type": "stream",
     "text": [
      "Error:  invalid literal for int() with base 10: 'Invalid Grade'\n"
     ]
    }
   ],
   "source": [
    "try:\n",
    "    total = 0\n",
    "    count = 0\n",
    "\n",
    "    with open(\"studentrecord.txt\", \"r\") as f:\n",
    "        lines = f.readlines() \n",
    "\n",
    "        for l in lines:\n",
    "            name, grade = l.strip().split(\",\")\n",
    "            total += int(grade.strip())\n",
    "            count += 1\n",
    "\n",
    "    print(\"Average =\", total / count)\n",
    "\n",
    "except FileNotFoundError as e:\n",
    "    print(e)\n",
    "    \n",
    "except Exception as e:\n",
    "    print(\"Error: \", e)\n"
   ]
  },
  {
   "cell_type": "code",
   "execution_count": null,
   "id": "12a0c1f8",
   "metadata": {},
   "outputs": [],
   "source": []
  }
 ],
 "metadata": {
  "kernelspec": {
   "display_name": "base",
   "language": "python",
   "name": "python3"
  },
  "language_info": {
   "codemirror_mode": {
    "name": "ipython",
    "version": 3
   },
   "file_extension": ".py",
   "mimetype": "text/x-python",
   "name": "python",
   "nbconvert_exporter": "python",
   "pygments_lexer": "ipython3",
   "version": "3.12.11"
  }
 },
 "nbformat": 4,
 "nbformat_minor": 5
}
